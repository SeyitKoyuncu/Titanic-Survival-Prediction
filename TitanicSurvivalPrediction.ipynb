{
 "cells": [
  {
   "cell_type": "markdown",
   "metadata": {},
   "source": [
    "### Import Libraries"
   ]
  },
  {
   "cell_type": "code",
   "execution_count": 1,
   "metadata": {},
   "outputs": [],
   "source": [
    "import numpy as np\n",
    "import pandas as pd\n",
    "import matplotlib.pyplot as plt\n",
    "import seaborn as sns\n",
    "\n",
    "import warnings\n",
    "warnings.filterwarnings('ignore')"
   ]
  },
  {
   "cell_type": "markdown",
   "metadata": {},
   "source": [
    "### Import Dataset"
   ]
  },
  {
   "cell_type": "code",
   "execution_count": 2,
   "metadata": {},
   "outputs": [
    {
     "name": "stdout",
     "output_type": "stream",
     "text": [
      "Index(['PassengerId', 'Survived', 'Pclass', 'Name', 'Sex', 'Age', 'SibSp',\n",
      "       'Parch', 'Ticket', 'Fare', 'Cabin', 'Embarked'],\n",
      "      dtype='object')\n"
     ]
    }
   ],
   "source": [
    "test_data = pd.read_csv(\"./test.csv\")\n",
    "train_data = pd.read_csv(\"./train.csv\")\n",
    "\n",
    "#Use seaborn barplot for visualazing\n",
    "print(train_data.columns)"
   ]
  },
  {
   "cell_type": "code",
   "execution_count": 3,
   "metadata": {},
   "outputs": [
    {
     "data": {
      "text/html": [
       "<div>\n",
       "<style scoped>\n",
       "    .dataframe tbody tr th:only-of-type {\n",
       "        vertical-align: middle;\n",
       "    }\n",
       "\n",
       "    .dataframe tbody tr th {\n",
       "        vertical-align: top;\n",
       "    }\n",
       "\n",
       "    .dataframe thead th {\n",
       "        text-align: right;\n",
       "    }\n",
       "</style>\n",
       "<table border=\"1\" class=\"dataframe\">\n",
       "  <thead>\n",
       "    <tr style=\"text-align: right;\">\n",
       "      <th></th>\n",
       "      <th>PassengerId</th>\n",
       "      <th>Survived</th>\n",
       "      <th>Pclass</th>\n",
       "      <th>Name</th>\n",
       "      <th>Sex</th>\n",
       "      <th>Age</th>\n",
       "      <th>SibSp</th>\n",
       "      <th>Parch</th>\n",
       "      <th>Ticket</th>\n",
       "      <th>Fare</th>\n",
       "      <th>Cabin</th>\n",
       "      <th>Embarked</th>\n",
       "    </tr>\n",
       "  </thead>\n",
       "  <tbody>\n",
       "    <tr>\n",
       "      <th>164</th>\n",
       "      <td>165</td>\n",
       "      <td>0</td>\n",
       "      <td>3</td>\n",
       "      <td>Panula, Master. Eino Viljami</td>\n",
       "      <td>male</td>\n",
       "      <td>1.0</td>\n",
       "      <td>4</td>\n",
       "      <td>1</td>\n",
       "      <td>3101295</td>\n",
       "      <td>39.6875</td>\n",
       "      <td>NaN</td>\n",
       "      <td>S</td>\n",
       "    </tr>\n",
       "    <tr>\n",
       "      <th>63</th>\n",
       "      <td>64</td>\n",
       "      <td>0</td>\n",
       "      <td>3</td>\n",
       "      <td>Skoog, Master. Harald</td>\n",
       "      <td>male</td>\n",
       "      <td>4.0</td>\n",
       "      <td>3</td>\n",
       "      <td>2</td>\n",
       "      <td>347088</td>\n",
       "      <td>27.9000</td>\n",
       "      <td>NaN</td>\n",
       "      <td>S</td>\n",
       "    </tr>\n",
       "    <tr>\n",
       "      <th>272</th>\n",
       "      <td>273</td>\n",
       "      <td>1</td>\n",
       "      <td>2</td>\n",
       "      <td>Mellinger, Mrs. (Elizabeth Anne Maidment)</td>\n",
       "      <td>female</td>\n",
       "      <td>41.0</td>\n",
       "      <td>0</td>\n",
       "      <td>1</td>\n",
       "      <td>250644</td>\n",
       "      <td>19.5000</td>\n",
       "      <td>NaN</td>\n",
       "      <td>S</td>\n",
       "    </tr>\n",
       "    <tr>\n",
       "      <th>23</th>\n",
       "      <td>24</td>\n",
       "      <td>1</td>\n",
       "      <td>1</td>\n",
       "      <td>Sloper, Mr. William Thompson</td>\n",
       "      <td>male</td>\n",
       "      <td>28.0</td>\n",
       "      <td>0</td>\n",
       "      <td>0</td>\n",
       "      <td>113788</td>\n",
       "      <td>35.5000</td>\n",
       "      <td>A6</td>\n",
       "      <td>S</td>\n",
       "    </tr>\n",
       "    <tr>\n",
       "      <th>801</th>\n",
       "      <td>802</td>\n",
       "      <td>1</td>\n",
       "      <td>2</td>\n",
       "      <td>Collyer, Mrs. Harvey (Charlotte Annie Tate)</td>\n",
       "      <td>female</td>\n",
       "      <td>31.0</td>\n",
       "      <td>1</td>\n",
       "      <td>1</td>\n",
       "      <td>C.A. 31921</td>\n",
       "      <td>26.2500</td>\n",
       "      <td>NaN</td>\n",
       "      <td>S</td>\n",
       "    </tr>\n",
       "    <tr>\n",
       "      <th>636</th>\n",
       "      <td>637</td>\n",
       "      <td>0</td>\n",
       "      <td>3</td>\n",
       "      <td>Leinonen, Mr. Antti Gustaf</td>\n",
       "      <td>male</td>\n",
       "      <td>32.0</td>\n",
       "      <td>0</td>\n",
       "      <td>0</td>\n",
       "      <td>STON/O 2. 3101292</td>\n",
       "      <td>7.9250</td>\n",
       "      <td>NaN</td>\n",
       "      <td>S</td>\n",
       "    </tr>\n",
       "    <tr>\n",
       "      <th>122</th>\n",
       "      <td>123</td>\n",
       "      <td>0</td>\n",
       "      <td>2</td>\n",
       "      <td>Nasser, Mr. Nicholas</td>\n",
       "      <td>male</td>\n",
       "      <td>32.5</td>\n",
       "      <td>1</td>\n",
       "      <td>0</td>\n",
       "      <td>237736</td>\n",
       "      <td>30.0708</td>\n",
       "      <td>NaN</td>\n",
       "      <td>C</td>\n",
       "    </tr>\n",
       "    <tr>\n",
       "      <th>766</th>\n",
       "      <td>767</td>\n",
       "      <td>0</td>\n",
       "      <td>1</td>\n",
       "      <td>Brewe, Dr. Arthur Jackson</td>\n",
       "      <td>male</td>\n",
       "      <td>NaN</td>\n",
       "      <td>0</td>\n",
       "      <td>0</td>\n",
       "      <td>112379</td>\n",
       "      <td>39.6000</td>\n",
       "      <td>NaN</td>\n",
       "      <td>C</td>\n",
       "    </tr>\n",
       "  </tbody>\n",
       "</table>\n",
       "</div>"
      ],
      "text/plain": [
       "     PassengerId  Survived  Pclass  \\\n",
       "164          165         0       3   \n",
       "63            64         0       3   \n",
       "272          273         1       2   \n",
       "23            24         1       1   \n",
       "801          802         1       2   \n",
       "636          637         0       3   \n",
       "122          123         0       2   \n",
       "766          767         0       1   \n",
       "\n",
       "                                            Name     Sex   Age  SibSp  Parch  \\\n",
       "164                 Panula, Master. Eino Viljami    male   1.0      4      1   \n",
       "63                         Skoog, Master. Harald    male   4.0      3      2   \n",
       "272    Mellinger, Mrs. (Elizabeth Anne Maidment)  female  41.0      0      1   \n",
       "23                  Sloper, Mr. William Thompson    male  28.0      0      0   \n",
       "801  Collyer, Mrs. Harvey (Charlotte Annie Tate)  female  31.0      1      1   \n",
       "636                   Leinonen, Mr. Antti Gustaf    male  32.0      0      0   \n",
       "122                         Nasser, Mr. Nicholas    male  32.5      1      0   \n",
       "766                    Brewe, Dr. Arthur Jackson    male   NaN      0      0   \n",
       "\n",
       "                Ticket     Fare Cabin Embarked  \n",
       "164            3101295  39.6875   NaN        S  \n",
       "63              347088  27.9000   NaN        S  \n",
       "272             250644  19.5000   NaN        S  \n",
       "23              113788  35.5000    A6        S  \n",
       "801         C.A. 31921  26.2500   NaN        S  \n",
       "636  STON/O 2. 3101292   7.9250   NaN        S  \n",
       "122             237736  30.0708   NaN        C  \n",
       "766             112379  39.6000   NaN        C  "
      ]
     },
     "execution_count": 3,
     "metadata": {},
     "output_type": "execute_result"
    }
   ],
   "source": [
    "train_data.sample(8)"
   ]
  },
  {
   "cell_type": "code",
   "execution_count": 4,
   "metadata": {},
   "outputs": [
    {
     "data": {
      "text/html": [
       "<div>\n",
       "<style scoped>\n",
       "    .dataframe tbody tr th:only-of-type {\n",
       "        vertical-align: middle;\n",
       "    }\n",
       "\n",
       "    .dataframe tbody tr th {\n",
       "        vertical-align: top;\n",
       "    }\n",
       "\n",
       "    .dataframe thead th {\n",
       "        text-align: right;\n",
       "    }\n",
       "</style>\n",
       "<table border=\"1\" class=\"dataframe\">\n",
       "  <thead>\n",
       "    <tr style=\"text-align: right;\">\n",
       "      <th></th>\n",
       "      <th>PassengerId</th>\n",
       "      <th>Survived</th>\n",
       "      <th>Pclass</th>\n",
       "      <th>Name</th>\n",
       "      <th>Sex</th>\n",
       "      <th>Age</th>\n",
       "      <th>SibSp</th>\n",
       "      <th>Parch</th>\n",
       "      <th>Ticket</th>\n",
       "      <th>Fare</th>\n",
       "      <th>Cabin</th>\n",
       "      <th>Embarked</th>\n",
       "    </tr>\n",
       "  </thead>\n",
       "  <tbody>\n",
       "    <tr>\n",
       "      <th>count</th>\n",
       "      <td>891.000000</td>\n",
       "      <td>891.000000</td>\n",
       "      <td>891.000000</td>\n",
       "      <td>891</td>\n",
       "      <td>891</td>\n",
       "      <td>714.000000</td>\n",
       "      <td>891.000000</td>\n",
       "      <td>891.000000</td>\n",
       "      <td>891</td>\n",
       "      <td>891.000000</td>\n",
       "      <td>204</td>\n",
       "      <td>889</td>\n",
       "    </tr>\n",
       "    <tr>\n",
       "      <th>unique</th>\n",
       "      <td>NaN</td>\n",
       "      <td>NaN</td>\n",
       "      <td>NaN</td>\n",
       "      <td>891</td>\n",
       "      <td>2</td>\n",
       "      <td>NaN</td>\n",
       "      <td>NaN</td>\n",
       "      <td>NaN</td>\n",
       "      <td>681</td>\n",
       "      <td>NaN</td>\n",
       "      <td>147</td>\n",
       "      <td>3</td>\n",
       "    </tr>\n",
       "    <tr>\n",
       "      <th>top</th>\n",
       "      <td>NaN</td>\n",
       "      <td>NaN</td>\n",
       "      <td>NaN</td>\n",
       "      <td>Braund, Mr. Owen Harris</td>\n",
       "      <td>male</td>\n",
       "      <td>NaN</td>\n",
       "      <td>NaN</td>\n",
       "      <td>NaN</td>\n",
       "      <td>347082</td>\n",
       "      <td>NaN</td>\n",
       "      <td>B96 B98</td>\n",
       "      <td>S</td>\n",
       "    </tr>\n",
       "    <tr>\n",
       "      <th>freq</th>\n",
       "      <td>NaN</td>\n",
       "      <td>NaN</td>\n",
       "      <td>NaN</td>\n",
       "      <td>1</td>\n",
       "      <td>577</td>\n",
       "      <td>NaN</td>\n",
       "      <td>NaN</td>\n",
       "      <td>NaN</td>\n",
       "      <td>7</td>\n",
       "      <td>NaN</td>\n",
       "      <td>4</td>\n",
       "      <td>644</td>\n",
       "    </tr>\n",
       "    <tr>\n",
       "      <th>mean</th>\n",
       "      <td>446.000000</td>\n",
       "      <td>0.383838</td>\n",
       "      <td>2.308642</td>\n",
       "      <td>NaN</td>\n",
       "      <td>NaN</td>\n",
       "      <td>29.699118</td>\n",
       "      <td>0.523008</td>\n",
       "      <td>0.381594</td>\n",
       "      <td>NaN</td>\n",
       "      <td>32.204208</td>\n",
       "      <td>NaN</td>\n",
       "      <td>NaN</td>\n",
       "    </tr>\n",
       "    <tr>\n",
       "      <th>std</th>\n",
       "      <td>257.353842</td>\n",
       "      <td>0.486592</td>\n",
       "      <td>0.836071</td>\n",
       "      <td>NaN</td>\n",
       "      <td>NaN</td>\n",
       "      <td>14.526497</td>\n",
       "      <td>1.102743</td>\n",
       "      <td>0.806057</td>\n",
       "      <td>NaN</td>\n",
       "      <td>49.693429</td>\n",
       "      <td>NaN</td>\n",
       "      <td>NaN</td>\n",
       "    </tr>\n",
       "    <tr>\n",
       "      <th>min</th>\n",
       "      <td>1.000000</td>\n",
       "      <td>0.000000</td>\n",
       "      <td>1.000000</td>\n",
       "      <td>NaN</td>\n",
       "      <td>NaN</td>\n",
       "      <td>0.420000</td>\n",
       "      <td>0.000000</td>\n",
       "      <td>0.000000</td>\n",
       "      <td>NaN</td>\n",
       "      <td>0.000000</td>\n",
       "      <td>NaN</td>\n",
       "      <td>NaN</td>\n",
       "    </tr>\n",
       "    <tr>\n",
       "      <th>25%</th>\n",
       "      <td>223.500000</td>\n",
       "      <td>0.000000</td>\n",
       "      <td>2.000000</td>\n",
       "      <td>NaN</td>\n",
       "      <td>NaN</td>\n",
       "      <td>20.125000</td>\n",
       "      <td>0.000000</td>\n",
       "      <td>0.000000</td>\n",
       "      <td>NaN</td>\n",
       "      <td>7.910400</td>\n",
       "      <td>NaN</td>\n",
       "      <td>NaN</td>\n",
       "    </tr>\n",
       "    <tr>\n",
       "      <th>50%</th>\n",
       "      <td>446.000000</td>\n",
       "      <td>0.000000</td>\n",
       "      <td>3.000000</td>\n",
       "      <td>NaN</td>\n",
       "      <td>NaN</td>\n",
       "      <td>28.000000</td>\n",
       "      <td>0.000000</td>\n",
       "      <td>0.000000</td>\n",
       "      <td>NaN</td>\n",
       "      <td>14.454200</td>\n",
       "      <td>NaN</td>\n",
       "      <td>NaN</td>\n",
       "    </tr>\n",
       "    <tr>\n",
       "      <th>75%</th>\n",
       "      <td>668.500000</td>\n",
       "      <td>1.000000</td>\n",
       "      <td>3.000000</td>\n",
       "      <td>NaN</td>\n",
       "      <td>NaN</td>\n",
       "      <td>38.000000</td>\n",
       "      <td>1.000000</td>\n",
       "      <td>0.000000</td>\n",
       "      <td>NaN</td>\n",
       "      <td>31.000000</td>\n",
       "      <td>NaN</td>\n",
       "      <td>NaN</td>\n",
       "    </tr>\n",
       "    <tr>\n",
       "      <th>max</th>\n",
       "      <td>891.000000</td>\n",
       "      <td>1.000000</td>\n",
       "      <td>3.000000</td>\n",
       "      <td>NaN</td>\n",
       "      <td>NaN</td>\n",
       "      <td>80.000000</td>\n",
       "      <td>8.000000</td>\n",
       "      <td>6.000000</td>\n",
       "      <td>NaN</td>\n",
       "      <td>512.329200</td>\n",
       "      <td>NaN</td>\n",
       "      <td>NaN</td>\n",
       "    </tr>\n",
       "  </tbody>\n",
       "</table>\n",
       "</div>"
      ],
      "text/plain": [
       "        PassengerId    Survived      Pclass                     Name   Sex  \\\n",
       "count    891.000000  891.000000  891.000000                      891   891   \n",
       "unique          NaN         NaN         NaN                      891     2   \n",
       "top             NaN         NaN         NaN  Braund, Mr. Owen Harris  male   \n",
       "freq            NaN         NaN         NaN                        1   577   \n",
       "mean     446.000000    0.383838    2.308642                      NaN   NaN   \n",
       "std      257.353842    0.486592    0.836071                      NaN   NaN   \n",
       "min        1.000000    0.000000    1.000000                      NaN   NaN   \n",
       "25%      223.500000    0.000000    2.000000                      NaN   NaN   \n",
       "50%      446.000000    0.000000    3.000000                      NaN   NaN   \n",
       "75%      668.500000    1.000000    3.000000                      NaN   NaN   \n",
       "max      891.000000    1.000000    3.000000                      NaN   NaN   \n",
       "\n",
       "               Age       SibSp       Parch  Ticket        Fare    Cabin  \\\n",
       "count   714.000000  891.000000  891.000000     891  891.000000      204   \n",
       "unique         NaN         NaN         NaN     681         NaN      147   \n",
       "top            NaN         NaN         NaN  347082         NaN  B96 B98   \n",
       "freq           NaN         NaN         NaN       7         NaN        4   \n",
       "mean     29.699118    0.523008    0.381594     NaN   32.204208      NaN   \n",
       "std      14.526497    1.102743    0.806057     NaN   49.693429      NaN   \n",
       "min       0.420000    0.000000    0.000000     NaN    0.000000      NaN   \n",
       "25%      20.125000    0.000000    0.000000     NaN    7.910400      NaN   \n",
       "50%      28.000000    0.000000    0.000000     NaN   14.454200      NaN   \n",
       "75%      38.000000    1.000000    0.000000     NaN   31.000000      NaN   \n",
       "max      80.000000    8.000000    6.000000     NaN  512.329200      NaN   \n",
       "\n",
       "       Embarked  \n",
       "count       889  \n",
       "unique        3  \n",
       "top           S  \n",
       "freq        644  \n",
       "mean        NaN  \n",
       "std         NaN  \n",
       "min         NaN  \n",
       "25%         NaN  \n",
       "50%         NaN  \n",
       "75%         NaN  \n",
       "max         NaN  "
      ]
     },
     "execution_count": 4,
     "metadata": {},
     "output_type": "execute_result"
    }
   ],
   "source": [
    "train_data.describe(include = \"all\")"
   ]
  },
  {
   "cell_type": "code",
   "execution_count": 5,
   "metadata": {},
   "outputs": [
    {
     "name": "stdout",
     "output_type": "stream",
     "text": [
      "PassengerId      0\n",
      "Survived         0\n",
      "Pclass           0\n",
      "Name             0\n",
      "Sex              0\n",
      "Age            177\n",
      "SibSp            0\n",
      "Parch            0\n",
      "Ticket           0\n",
      "Fare             0\n",
      "Cabin          687\n",
      "Embarked         2\n",
      "dtype: int64\n"
     ]
    }
   ],
   "source": [
    "print(pd.isnull(train_data).sum())"
   ]
  },
  {
   "cell_type": "markdown",
   "metadata": {},
   "source": [
    "## Data Visualization"
   ]
  },
  {
   "cell_type": "markdown",
   "metadata": {},
   "source": [
    "#### Connection Between Sex and Survived"
   ]
  },
  {
   "cell_type": "code",
   "execution_count": 6,
   "metadata": {},
   "outputs": [
    {
     "name": "stdout",
     "output_type": "stream",
     "text": [
      "percentages of the survived female:  74.20382165605095\n",
      "percentages of the survived males:  18.890814558058924\n"
     ]
    },
    {
     "data": {
      "image/png": "[encoded data removed]",
      "text/plain": [
       "<Figure size 432x288 with 1 Axes>"
      ]
     },
     "metadata": {
      "needs_background": "light"
     },
     "output_type": "display_data"
    }
   ],
   "source": [
    "sns.barplot(data = train_data, x = \"Sex\", y = \"Survived\")\n",
    "\n",
    "#percentages  of the survived males\n",
    "print(\"percentages of the survived female: \", train_data[\"Survived\"][train_data[\"Sex\"] == \"female\"].value_counts(normalize = True)[1] * 100)\n",
    "#percentages  of the survived females\n",
    "print(\"percentages of the survived males: \", train_data[\"Survived\"][train_data[\"Sex\"] == \"male\"].value_counts(normalize = True)[1] * 100)"
   ]
  },
  {
   "cell_type": "markdown",
   "metadata": {},
   "source": [
    "#### Connection Between PClass and Survived"
   ]
  },
  {
   "cell_type": "code",
   "execution_count": 7,
   "metadata": {},
   "outputs": [
    {
     "name": "stdout",
     "output_type": "stream",
     "text": [
      "[3 1 2]\n",
      "Survived who has 1. pclass: 62.96296296296296\n",
      "Survived who has 2. pclass: 47.28260869565217\n",
      "Survived who has 3. pclass: 24.236252545824847\n"
     ]
    },
    {
     "data": {
      "image/png": "[encoded data removed]",
      "text/plain": [
       "<Figure size 432x288 with 1 Axes>"
      ]
     },
     "metadata": {
      "needs_background": "light"
     },
     "output_type": "display_data"
    }
   ],
   "source": [
    "print(train_data[\"Pclass\"].unique())\n",
    "\n",
    "sns.barplot(data = train_data, x = \"Pclass\", y = \"Survived\")\n",
    "\n",
    "#Percantage of survived 1. pclass\n",
    "print(\"Survived who has 1. pclass:\", train_data[\"Survived\"][train_data[\"Pclass\"] == 1].value_counts(normalize = True)[1] * 100)\n",
    "\n",
    "#Percantage of survived 2. pclass\n",
    "print(\"Survived who has 2. pclass:\", train_data[\"Survived\"][train_data[\"Pclass\"] == 2].value_counts(normalize = True)[1] * 100)\n",
    "\n",
    "#Percantage of survived 3. pclass\n",
    "print(\"Survived who has 3. pclass:\", train_data[\"Survived\"][train_data[\"Pclass\"] == 3].value_counts(normalize = True)[1] * 100)"
   ]
  },
  {
   "cell_type": "markdown",
   "metadata": {},
   "source": [
    "#### Connection Between Parch and Survived"
   ]
  },
  {
   "cell_type": "code",
   "execution_count": 8,
   "metadata": {},
   "outputs": [
    {
     "name": "stdout",
     "output_type": "stream",
     "text": [
      "[0 1 2 5 3 4 6]\n",
      "Percantage of survived who has parch 1:  34.365781710914455\n",
      "Percantage of survived who has parch 1:  55.08474576271186\n",
      "Percantage of survived who has parch 2:  50.0\n",
      "Percantage of survived who has parch 3:  60.0\n",
      "Percantage of survived who has parch 4:  0\n",
      "Percantage of survived who has parch 5:  20.0\n",
      "Percantage of survived who has parch 6:  0\n"
     ]
    },
    {
     "data": {
      "image/png": "[encoded data removed]",
      "text/plain": [
       "<Figure size 432x288 with 1 Axes>"
      ]
     },
     "metadata": {
      "needs_background": "light"
     },
     "output_type": "display_data"
    }
   ],
   "source": [
    "print(train_data[\"Parch\"].unique())\n",
    "\n",
    "sns.barplot(data = train_data, x = \"Parch\", y = \"Survived\")\n",
    "\n",
    "#Percantage of survived who has parch 0\n",
    "print(\"Percantage of survived who has parch 1: \", train_data[\"Survived\"][train_data[\"Parch\"] == 0].value_counts(normalize = True)[1] * 100)\n",
    "\n",
    "#Percantage of survived who has parch 1\n",
    "print(\"Percantage of survived who has parch 1: \", train_data[\"Survived\"][train_data[\"Parch\"] == 1].value_counts(normalize = True)[1] * 100)\n",
    "\n",
    "#Percantage of survived who has parch 2\n",
    "print(\"Percantage of survived who has parch 2: \", train_data[\"Survived\"][train_data[\"Parch\"] == 2].value_counts(normalize = True)[1] * 100)\n",
    "\n",
    "#Percantage of survived who has parch 3\n",
    "print(\"Percantage of survived who has parch 3: \", train_data[\"Survived\"][train_data[\"Parch\"] == 3].value_counts(normalize = True)[1] * 100)\n",
    "\n",
    "#Percantage of survived who has parch 4\n",
    "print(\"Percantage of survived who has parch 4: \", 0)\n",
    "\n",
    "#Percantage of survived who has parch 5\n",
    "print(\"Percantage of survived who has parch 5: \", train_data[\"Survived\"][train_data[\"Parch\"] == 5].value_counts(normalize = True)[1] * 100)\n",
    "\n",
    "#Percantage of survived who has parch 6\n",
    "print(\"Percantage of survived who has parch 6: \", 0)"
   ]
  },
  {
   "cell_type": "markdown",
   "metadata": {},
   "source": [
    "#### Connection Between SibsSp and Survived"
   ]
  },
  {
   "cell_type": "code",
   "execution_count": 9,
   "metadata": {},
   "outputs": [
    {
     "name": "stdout",
     "output_type": "stream",
     "text": [
      "[1 0 3 4 2 5 8]\n",
      "Percantage of survived who has SibSp 0:  34.53947368421053\n",
      "Percantage of survived who has SibSp 1:  53.588516746411486\n",
      "Percantage of survived who has SibSp 2:  46.42857142857143\n",
      "Percantage of survived who has SibSp 3:  25.0\n",
      "Percantage of survived who has SibSp 4:  16.666666666666664\n",
      "Percantage of survived who has SibSp 5:  0\n",
      "Percantage of survived who has SibSp 6:  0\n"
     ]
    },
    {
     "data": {
      "image/png": "[encoded data removed]",
      "text/plain": [
       "<Figure size 432x288 with 1 Axes>"
      ]
     },
     "metadata": {
      "needs_background": "light"
     },
     "output_type": "display_data"
    }
   ],
   "source": [
    "print(train_data[\"SibSp\"].unique())\n",
    "\n",
    "sns.barplot(data = train_data, x = \"SibSp\", y = \"Survived\")\n",
    "\n",
    "#Percantage of survived who has SibSp 0\n",
    "print(\"Percantage of survived who has SibSp 0: \", train_data[\"Survived\"][train_data[\"SibSp\"] == 0].value_counts(normalize = True)[1] * 100)\n",
    "\n",
    "#Percantage of survived who has SibSp 1\n",
    "print(\"Percantage of survived who has SibSp 1: \", train_data[\"Survived\"][train_data[\"SibSp\"] == 1].value_counts(normalize = True)[1] * 100)\n",
    "\n",
    "#Percantage of survived who has SibSp 2\n",
    "print(\"Percantage of survived who has SibSp 2: \", train_data[\"Survived\"][train_data[\"SibSp\"] == 2].value_counts(normalize = True)[1] * 100)\n",
    "\n",
    "#Percantage of survived who has SibSp 3\n",
    "print(\"Percantage of survived who has SibSp 3: \", train_data[\"Survived\"][train_data[\"SibSp\"] == 3].value_counts(normalize = True)[1] * 100)\n",
    "\n",
    "#Percantage of survived who has SibSp 4\n",
    "print(\"Percantage of survived who has SibSp 4: \", train_data[\"Survived\"][train_data[\"SibSp\"] == 4].value_counts(normalize = True)[1] * 100)\n",
    "\n",
    "#Percantage of survived who has SibSp 5\n",
    "print(\"Percantage of survived who has SibSp 5: \", 0)\n",
    "\n",
    "#Percantage of survived who has SibSp 6\n",
    "print(\"Percantage of survived who has SibSp 6: \", 0)"
   ]
  },
  {
   "cell_type": "markdown",
   "metadata": {},
   "source": [
    "#### Connection Between Embarked and Survived"
   ]
  },
  {
   "cell_type": "code",
   "execution_count": 10,
   "metadata": {},
   "outputs": [
    {
     "name": "stdout",
     "output_type": "stream",
     "text": [
      "Percantage of survived who has SibSp 2:  55.35714285714286\n"
     ]
    },
    {
     "data": {
      "image/png": "[encoded data removed]",
      "text/plain": [
       "<Figure size 432x288 with 1 Axes>"
      ]
     },
     "metadata": {
      "needs_background": "light"
     },
     "output_type": "display_data"
    }
   ],
   "source": [
    "sns.barplot(data = train_data, x = \"Embarked\", y = \"Survived\")\n",
    "\n",
    "print(\"Percantage of survived who has SibSp 2: \", train_data[\"Survived\"][train_data[\"Embarked\"] == 'C'].value_counts(normalize = True)[1] * 100)"
   ]
  },
  {
   "cell_type": "markdown",
   "metadata": {},
   "source": [
    "## Data Handling"
   ]
  },
  {
   "cell_type": "code",
   "execution_count": 11,
   "metadata": {},
   "outputs": [
    {
     "name": "stdout",
     "output_type": "stream",
     "text": [
      "TRAIN DATA'S NULL\n",
      "PassengerId      0\n",
      "Survived         0\n",
      "Pclass           0\n",
      "Name             0\n",
      "Sex              0\n",
      "Age            177\n",
      "SibSp            0\n",
      "Parch            0\n",
      "Ticket           0\n",
      "Fare             0\n",
      "Cabin          687\n",
      "Embarked         2\n",
      "dtype: int64\n",
      "\n",
      "\n",
      "TEST DATA'S NULL\n",
      "PassengerId      0\n",
      "Pclass           0\n",
      "Name             0\n",
      "Sex              0\n",
      "Age             86\n",
      "SibSp            0\n",
      "Parch            0\n",
      "Ticket           0\n",
      "Fare             1\n",
      "Cabin          327\n",
      "Embarked         0\n",
      "dtype: int64\n"
     ]
    }
   ],
   "source": [
    "print(\"TRAIN DATA'S NULL\")\n",
    "print(train_data.isnull().sum())\n",
    "print(\"\\n\\nTEST DATA'S NULL\")\n",
    "print(test_data.isnull().sum())"
   ]
  },
  {
   "cell_type": "markdown",
   "metadata": {},
   "source": [
    "#### Delete Cabin/Passenger ID/Ticket/Name Columns"
   ]
  },
  {
   "cell_type": "code",
   "execution_count": 12,
   "metadata": {},
   "outputs": [],
   "source": [
    "deleted_columns = ['Cabin', 'PassengerId', 'Ticket', 'Name']\n",
    "\n",
    "#axis 1 is delete for colums, axis 0 for delete row\n",
    "for key in deleted_columns:\n",
    "    if key in train_data.columns:\n",
    "        train_data = train_data.drop(key, axis = 1)\n",
    "    if key in test_data.columns:\n",
    "        test_data = test_data.drop(key, axis = 1)"
   ]
  },
  {
   "cell_type": "code",
   "execution_count": 13,
   "metadata": {},
   "outputs": [
    {
     "name": "stdout",
     "output_type": "stream",
     "text": [
      "Index(['Survived', 'Pclass', 'Sex', 'Age', 'SibSp', 'Parch', 'Fare',\n",
      "       'Embarked'],\n",
      "      dtype='object')\n",
      "\n",
      " \n",
      "\n",
      "Index(['Pclass', 'Sex', 'Age', 'SibSp', 'Parch', 'Fare', 'Embarked'], dtype='object')\n"
     ]
    }
   ],
   "source": [
    "#Check new dataframes\n",
    "print(train_data.columns)\n",
    "print(\"\\n \\n\")\n",
    "print(test_data.columns)"
   ]
  },
  {
   "cell_type": "markdown",
   "metadata": {},
   "source": [
    "#### Handle Embarked Nan Values"
   ]
  },
  {
   "cell_type": "code",
   "execution_count": 14,
   "metadata": {},
   "outputs": [
    {
     "name": "stdout",
     "output_type": "stream",
     "text": [
      "Train data which is nan Embarked: 2\n",
      "Unique embarked datas for train data: ['S' 'C' 'Q' nan]\n",
      "Train data which is S Embarked: 644\n",
      "Train data which is C Embarked: 168\n",
      "Train data which is Q Embarked: 77\n",
      "\n",
      "Test data which nan Embarked: 0\n",
      "\n",
      "After fill na Train data which is nan Embarked: 0\n",
      "After fill na Train data which is S Embarked: 646\n"
     ]
    }
   ],
   "source": [
    "print(\"Train data which is nan Embarked:\", train_data[\"Embarked\"].isnull().sum())\n",
    "print(\"Unique embarked datas for train data:\", train_data[\"Embarked\"].unique())\n",
    "print(\"Train data which is S Embarked:\", (train_data[\"Embarked\"] == 'S').sum())\n",
    "print(\"Train data which is C Embarked:\", (train_data[\"Embarked\"] == 'C').sum())\n",
    "print(\"Train data which is Q Embarked:\", (train_data[\"Embarked\"] == 'Q').sum())\n",
    "\n",
    "print(\"\\nTest data which nan Embarked:\", test_data[\"Embarked\"].isnull().sum())\n",
    "\n",
    "# We can see that, S is more than others so I fill train data's nans to S\n",
    "train_data[\"Embarked\"] = train_data[\"Embarked\"].replace(np.nan, 'S')\n",
    "\n",
    "# Chechk process is correct or not\n",
    "print(\"\\nAfter fill na Train data which is nan Embarked:\", train_data[\"Embarked\"].isnull().sum())\n",
    "print(\"After fill na Train data which is S Embarked:\", (train_data[\"Embarked\"] == 'S').sum())"
   ]
  },
  {
   "cell_type": "markdown",
   "metadata": {},
   "source": [
    "### Handle nan Ages and Fare"
   ]
  },
  {
   "cell_type": "code",
   "execution_count": 15,
   "metadata": {},
   "outputs": [],
   "source": [
    "train_data = train_data.dropna(subset = ['Age'])\n",
    "test_data = test_data.dropna(subset = ['Age'])\n",
    "\n",
    "train_data = train_data.dropna(subset = ['Fare'])\n",
    "test_data = test_data.dropna(subset = ['Fare'])"
   ]
  },
  {
   "cell_type": "markdown",
   "metadata": {},
   "source": [
    "### One Hot Encoding for Embarked"
   ]
  },
  {
   "cell_type": "code",
   "execution_count": 16,
   "metadata": {},
   "outputs": [],
   "source": [
    "from sklearn.preprocessing import OneHotEncoder\n",
    "\n",
    "ohe = OneHotEncoder()\n",
    "\n",
    "encoded_train = pd.get_dummies(train_data, columns = ['Embarked'])\n",
    "encoded_test = pd.get_dummies(test_data, columns = ['Embarked'])"
   ]
  },
  {
   "cell_type": "markdown",
   "metadata": {},
   "source": [
    "### Encode to Sex"
   ]
  },
  {
   "cell_type": "code",
   "execution_count": 17,
   "metadata": {},
   "outputs": [],
   "source": [
    "encoded_train = pd.get_dummies(encoded_train, columns = ['Sex'])\n",
    "encoded_train = encoded_train.drop(columns = 'Sex_female', axis = 1)\n",
    "\n",
    "encoded_test = pd.get_dummies(encoded_test, columns = ['Sex'])\n",
    "encoded_test = encoded_test.drop(columns = 'Sex_female', axis = 1)"
   ]
  },
  {
   "cell_type": "markdown",
   "metadata": {},
   "source": [
    "### Check The Columns"
   ]
  },
  {
   "cell_type": "code",
   "execution_count": 18,
   "metadata": {},
   "outputs": [
    {
     "name": "stdout",
     "output_type": "stream",
     "text": [
      "Index(['Pclass', 'Age', 'SibSp', 'Parch', 'Fare', 'Embarked_C', 'Embarked_Q',\n",
      "       'Embarked_S', 'Sex_male'],\n",
      "      dtype='object')\n",
      "Index(['Survived', 'Pclass', 'Age', 'SibSp', 'Parch', 'Fare', 'Embarked_C',\n",
      "       'Embarked_Q', 'Embarked_S', 'Sex_male'],\n",
      "      dtype='object')\n"
     ]
    }
   ],
   "source": [
    "print(encoded_test.columns)\n",
    "print(encoded_train.columns)"
   ]
  },
  {
   "cell_type": "markdown",
   "metadata": {},
   "source": [
    "# Machine Learning Models"
   ]
  },
  {
   "cell_type": "markdown",
   "metadata": {},
   "source": [
    "### Train and Test Split"
   ]
  },
  {
   "cell_type": "code",
   "execution_count": 19,
   "metadata": {},
   "outputs": [],
   "source": [
    "from sklearn.model_selection import train_test_split\n",
    "\n",
    "x_train, x_test,y_train,y_test = train_test_split(encoded_train.iloc[:, 1:], encoded_train.iloc[:, 0:1], test_size=0.33, random_state=0)\n",
    "\n",
    "from sklearn.preprocessing import StandardScaler\n",
    "sc=StandardScaler()\n",
    "x_train_sc = sc.fit_transform(x_train)\n",
    "x_test_sc = sc.transform(x_test)\n",
    "\n",
    "from sklearn.metrics import confusion_matrix, accuracy_score, roc_auc_score, roc_curve"
   ]
  },
  {
   "cell_type": "markdown",
   "metadata": {},
   "source": [
    "### KNN"
   ]
  },
  {
   "cell_type": "code",
   "execution_count": 20,
   "metadata": {},
   "outputs": [
    {
     "name": "stdout",
     "output_type": "stream",
     "text": [
      "Best accuracy with no scaler is = 0.6949152542372882, with 3 n_neighbors and cosine metric\n",
      "Best accuracy with scaler is = 0.7669491525423728, with 9 n_neighbors and nan_euclidean metric\n",
      "[[114  28]\n",
      " [ 27  67]]\n"
     ]
    }
   ],
   "source": [
    "from sklearn.neighbors import KNeighborsClassifier\n",
    "\n",
    "knn_params = {\"cosine\", \"euclidean\", \"manhattan\", \"nan_euclidean\"}\n",
    "best_accuracy_knn = 0\n",
    "best_metric = \"\"\n",
    "best_neighbor_count = 0\n",
    "\n",
    "for i in range(1,10):\n",
    "    for param in knn_params:\n",
    "        knn = KNeighborsClassifier(n_neighbors=i, metric = param, weights = \"distance\")\n",
    "        knn.fit(x_train, y_train)\n",
    "        y_pred = knn.predict(x_test)\n",
    "        if best_accuracy_knn < accuracy_score(y_test, y_pred):\n",
    "            best_accuracy_knn, best_neighbor_count, best_metric = accuracy_score(y_test, y_pred), i, param\n",
    "\n",
    "print(f\"Best accuracy with no scaler is = {best_accuracy_knn}, with {best_neighbor_count} n_neighbors and {best_metric} metric\")\n",
    "\n",
    "for i in range(1,10):\n",
    "    for param in knn_params:\n",
    "        knn = KNeighborsClassifier(n_neighbors=i, metric = param, weights = \"distance\")\n",
    "        knn.fit(x_train_sc, y_train)\n",
    "        y_pred = knn.predict(x_test_sc)\n",
    "        if best_accuracy_knn < accuracy_score(y_test, y_pred):\n",
    "            best_accuracy_knn, best_neighbor_count, best_metric = accuracy_score(y_test, y_pred), i, param\n",
    "\n",
    "print(f\"Best accuracy with scaler is = {best_accuracy_knn}, with {best_neighbor_count} n_neighbors and {best_metric} metric\")\n",
    "\n",
    "knn = KNeighborsClassifier(n_neighbors=best_neighbor_count, metric = best_metric, weights = \"distance\")\n",
    "knn.fit(x_train_sc, y_train)\n",
    "y_pred = knn.predict(x_test_sc)\n",
    "print(confusion_matrix(y_test,y_pred))"
   ]
  },
  {
   "cell_type": "markdown",
   "metadata": {},
   "source": [
    "### Logistic Regression"
   ]
  },
  {
   "cell_type": "code",
   "execution_count": 21,
   "metadata": {},
   "outputs": [
    {
     "name": "stdout",
     "output_type": "stream",
     "text": [
      "0.826271186440678\n",
      "[[124  18]\n",
      " [ 23  71]]\n"
     ]
    }
   ],
   "source": [
    "from sklearn.linear_model import LogisticRegression\n",
    "\n",
    "log_reg = LogisticRegression()\n",
    "log_reg.fit(x_train_sc, y_train)\n",
    "y_pred = log_reg.predict(x_test_sc)\n",
    "print(accuracy_score(y_test, y_pred))\n",
    "print(confusion_matrix(y_test,y_pred))"
   ]
  },
  {
   "cell_type": "markdown",
   "metadata": {},
   "source": [
    "#### Roc Curve"
   ]
  },
  {
   "cell_type": "code",
   "execution_count": 22,
   "metadata": {},
   "outputs": [
    {
     "data": {
      "text/plain": [
       "Text(0, 0.5, 'True Positive Rate')"
      ]
     },
     "execution_count": 22,
     "metadata": {},
     "output_type": "execute_result"
    },
    {
     "data": {
      "image/png": "[encoded data removed]",
      "text/plain": [
       "<Figure size 432x288 with 1 Axes>"
      ]
     },
     "metadata": {
      "needs_background": "light"
     },
     "output_type": "display_data"
    }
   ],
   "source": [
    "y_pred_proba = log_reg.predict_proba(x_test_sc)[::,1]\n",
    "fpr, tpr, thresholds = roc_curve(y_test, y_pred_proba)\n",
    "\n",
    "plt.plot(fpr, tpr)\n",
    "plt.xlabel('False Positive Rate')\n",
    "plt.ylabel('True Positive Rate')"
   ]
  },
  {
   "cell_type": "markdown",
   "metadata": {},
   "source": [
    "### Use Decision Tree"
   ]
  },
  {
   "cell_type": "code",
   "execution_count": 23,
   "metadata": {},
   "outputs": [
    {
     "name": "stdout",
     "output_type": "stream",
     "text": [
      "Best accuracy is = 0.7457627118644068\n",
      "[[107  25]\n",
      " [ 35  69]]\n"
     ]
    }
   ],
   "source": [
    "from sklearn.tree import DecisionTreeClassifier\n",
    "\n",
    "dec_tree = DecisionTreeClassifier()\n",
    "dec_tree.fit(x_train_sc, y_train)\n",
    "y_pred = dec_tree.predict(x_test_sc)\n",
    "\n",
    "print(f\"Best accuracy is = {accuracy_score(y_test, y_pred)}\")\n",
    "print(confusion_matrix(y_pred, y_test))"
   ]
  },
  {
   "cell_type": "markdown",
   "metadata": {},
   "source": [
    "### Naive Bayes"
   ]
  },
  {
   "cell_type": "code",
   "execution_count": 24,
   "metadata": {},
   "outputs": [
    {
     "name": "stdout",
     "output_type": "stream",
     "text": [
      "0.7288135593220338\n",
      "[[111  31]\n",
      " [ 33  61]]\n"
     ]
    }
   ],
   "source": [
    "from sklearn.naive_bayes import GaussianNB\n",
    "\n",
    "naive_bayes = GaussianNB()\n",
    "naive_bayes.fit(x_train_sc, y_train)\n",
    "y_pred = naive_bayes.predict(x_test_sc)\n",
    "print(accuracy_score(y_test, y_pred))\n",
    "print(confusion_matrix(y_test,y_pred))"
   ]
  },
  {
   "cell_type": "markdown",
   "metadata": {},
   "source": [
    "### Support Vector Machine"
   ]
  },
  {
   "cell_type": "code",
   "execution_count": 25,
   "metadata": {},
   "outputs": [
    {
     "name": "stdout",
     "output_type": "stream",
     "text": [
      "<class 'numpy.ndarray'>\n",
      "<class 'numpy.ndarray'>\n",
      "<class 'numpy.ndarray'>\n",
      "<class 'numpy.ndarray'>\n",
      "best kernel = linear with 0.7966101694915254\n"
     ]
    }
   ],
   "source": [
    "from sklearn.svm import SVC\n",
    "\n",
    "kernels = {'linear', 'poly', 'rbf', 'sigmoid'}\n",
    "best_kernel = ''\n",
    "best_acc_kernel = 0\n",
    "\n",
    "for kernel in kernels:\n",
    "    svm_classifier = SVC(kernel = kernel)\n",
    "    svm_classifier.fit(x_train_sc, y_train)\n",
    "    y_pred = svm_classifier.predict(x_test_sc)\n",
    "    print(type(y_pred))\n",
    "    if accuracy_score(y_test, y_pred) > 0:\n",
    "        best_acc_kernel = accuracy_score(y_test, y_pred)\n",
    "        best_kernel = kernel\n",
    "\n",
    "print(f\"best kernel = {best_kernel} with {best_acc_kernel}\")"
   ]
  },
  {
   "attachments": {},
   "cell_type": "markdown",
   "metadata": {},
   "source": [
    "## Deep Learning"
   ]
  },
  {
   "attachments": {},
   "cell_type": "markdown",
   "metadata": {},
   "source": [
    "### Import Keras"
   ]
  },
  {
   "cell_type": "code",
   "execution_count": 29,
   "metadata": {},
   "outputs": [
    {
     "name": "stdout",
     "output_type": "stream",
     "text": [
      "9\n"
     ]
    }
   ],
   "source": [
    "import keras\n",
    "from keras.models import Sequential \n",
    "from keras.layers import Dense"
   ]
  },
  {
   "cell_type": "code",
   "execution_count": 76,
   "metadata": {},
   "outputs": [
    {
     "name": "stdout",
     "output_type": "stream",
     "text": [
      "Epoch 1/150\n",
      "24/24 [==============================] - 0s 652us/step - loss: 0.6923 - accuracy: 0.6017\n",
      "Epoch 2/150\n",
      "24/24 [==============================] - 0s 739us/step - loss: 0.6891 - accuracy: 0.6017\n",
      "Epoch 3/150\n",
      "24/24 [==============================] - 0s 870us/step - loss: 0.6797 - accuracy: 0.6017\n",
      "Epoch 4/150\n",
      "24/24 [==============================] - 0s 783us/step - loss: 0.6585 - accuracy: 0.6017\n",
      "Epoch 5/150\n",
      "24/24 [==============================] - 0s 739us/step - loss: 0.6196 - accuracy: 0.6144\n",
      "Epoch 6/150\n",
      "24/24 [==============================] - 0s 739us/step - loss: 0.5791 - accuracy: 0.7669\n",
      "Epoch 7/150\n",
      "24/24 [==============================] - 0s 783us/step - loss: 0.5463 - accuracy: 0.8093\n",
      "Epoch 8/150\n",
      "24/24 [==============================] - 0s 870us/step - loss: 0.5293 - accuracy: 0.8305\n",
      "Epoch 9/150\n",
      "24/24 [==============================] - 0s 783us/step - loss: 0.5104 - accuracy: 0.8390\n",
      "Epoch 10/150\n",
      "24/24 [==============================] - 0s 826us/step - loss: 0.4983 - accuracy: 0.8432\n",
      "Epoch 11/150\n",
      "24/24 [==============================] - 0s 913us/step - loss: 0.4845 - accuracy: 0.8432\n",
      "Epoch 12/150\n",
      "24/24 [==============================] - 0s 783us/step - loss: 0.4741 - accuracy: 0.8305\n",
      "Epoch 13/150\n",
      "24/24 [==============================] - 0s 870us/step - loss: 0.4615 - accuracy: 0.8263\n",
      "Epoch 14/150\n",
      "24/24 [==============================] - 0s 783us/step - loss: 0.4525 - accuracy: 0.8305\n",
      "Epoch 15/150\n",
      "24/24 [==============================] - 0s 870us/step - loss: 0.4437 - accuracy: 0.8347\n",
      "Epoch 16/150\n",
      "24/24 [==============================] - 0s 957us/step - loss: 0.4360 - accuracy: 0.8347\n",
      "Epoch 17/150\n",
      "24/24 [==============================] - 0s 957us/step - loss: 0.4294 - accuracy: 0.8347\n",
      "Epoch 18/150\n",
      "24/24 [==============================] - 0s 826us/step - loss: 0.4248 - accuracy: 0.8432\n",
      "Epoch 19/150\n",
      "24/24 [==============================] - 0s 826us/step - loss: 0.4206 - accuracy: 0.8432\n",
      "Epoch 20/150\n",
      "24/24 [==============================] - 0s 783us/step - loss: 0.4175 - accuracy: 0.8432\n",
      "Epoch 21/150\n",
      "24/24 [==============================] - 0s 870us/step - loss: 0.4140 - accuracy: 0.8517\n",
      "Epoch 22/150\n",
      "24/24 [==============================] - 0s 783us/step - loss: 0.4125 - accuracy: 0.8559\n",
      "Epoch 23/150\n",
      "24/24 [==============================] - 0s 783us/step - loss: 0.4092 - accuracy: 0.8559\n",
      "Epoch 24/150\n",
      "24/24 [==============================] - 0s 913us/step - loss: 0.4070 - accuracy: 0.8559\n",
      "Epoch 25/150\n",
      "24/24 [==============================] - 0s 826us/step - loss: 0.4050 - accuracy: 0.8559\n",
      "Epoch 26/150\n",
      "24/24 [==============================] - 0s 870us/step - loss: 0.4034 - accuracy: 0.8559\n",
      "Epoch 27/150\n",
      "24/24 [==============================] - 0s 870us/step - loss: 0.4016 - accuracy: 0.8559\n",
      "Epoch 28/150\n",
      "24/24 [==============================] - 0s 1ms/step - loss: 0.4012 - accuracy: 0.8517\n",
      "Epoch 29/150\n",
      "24/24 [==============================] - 0s 739us/step - loss: 0.4011 - accuracy: 0.8559\n",
      "Epoch 30/150\n",
      "24/24 [==============================] - 0s 739us/step - loss: 0.3987 - accuracy: 0.8559\n",
      "Epoch 31/150\n",
      "24/24 [==============================] - 0s 783us/step - loss: 0.3970 - accuracy: 0.8559\n",
      "Epoch 32/150\n",
      "24/24 [==============================] - 0s 652us/step - loss: 0.3960 - accuracy: 0.8559\n",
      "Epoch 33/150\n",
      "24/24 [==============================] - 0s 652us/step - loss: 0.3959 - accuracy: 0.8559\n",
      "Epoch 34/150\n",
      "24/24 [==============================] - 0s 696us/step - loss: 0.3948 - accuracy: 0.8559\n",
      "Epoch 35/150\n",
      "24/24 [==============================] - 0s 696us/step - loss: 0.3938 - accuracy: 0.8517\n",
      "Epoch 36/150\n",
      "24/24 [==============================] - 0s 696us/step - loss: 0.3928 - accuracy: 0.8602\n",
      "Epoch 37/150\n",
      "24/24 [==============================] - 0s 696us/step - loss: 0.3929 - accuracy: 0.8559\n",
      "Epoch 38/150\n",
      "24/24 [==============================] - 0s 696us/step - loss: 0.3910 - accuracy: 0.8602\n",
      "Epoch 39/150\n",
      "24/24 [==============================] - 0s 696us/step - loss: 0.3905 - accuracy: 0.8602\n",
      "Epoch 40/150\n",
      "24/24 [==============================] - 0s 696us/step - loss: 0.3907 - accuracy: 0.8644\n",
      "Epoch 41/150\n",
      "24/24 [==============================] - 0s 696us/step - loss: 0.3889 - accuracy: 0.8644\n",
      "Epoch 42/150\n",
      "24/24 [==============================] - 0s 696us/step - loss: 0.3896 - accuracy: 0.8602\n",
      "Epoch 43/150\n",
      "24/24 [==============================] - 0s 696us/step - loss: 0.3894 - accuracy: 0.8644\n",
      "Epoch 44/150\n",
      "24/24 [==============================] - 0s 696us/step - loss: 0.3891 - accuracy: 0.8644\n",
      "Epoch 45/150\n",
      "24/24 [==============================] - 0s 696us/step - loss: 0.3882 - accuracy: 0.8602\n",
      "Epoch 46/150\n",
      "24/24 [==============================] - 0s 652us/step - loss: 0.3878 - accuracy: 0.8686\n",
      "Epoch 47/150\n",
      "24/24 [==============================] - 0s 696us/step - loss: 0.3859 - accuracy: 0.8644\n",
      "Epoch 48/150\n",
      "24/24 [==============================] - 0s 696us/step - loss: 0.3860 - accuracy: 0.8644\n",
      "Epoch 49/150\n",
      "24/24 [==============================] - 0s 696us/step - loss: 0.3859 - accuracy: 0.8602\n",
      "Epoch 50/150\n",
      "24/24 [==============================] - 0s 739us/step - loss: 0.3854 - accuracy: 0.8644\n",
      "Epoch 51/150\n",
      "24/24 [==============================] - 0s 696us/step - loss: 0.3846 - accuracy: 0.8686\n",
      "Epoch 52/150\n",
      "24/24 [==============================] - 0s 696us/step - loss: 0.3843 - accuracy: 0.8644\n",
      "Epoch 53/150\n",
      "24/24 [==============================] - 0s 696us/step - loss: 0.3835 - accuracy: 0.8602\n",
      "Epoch 54/150\n",
      "24/24 [==============================] - 0s 696us/step - loss: 0.3841 - accuracy: 0.8644\n",
      "Epoch 55/150\n",
      "24/24 [==============================] - 0s 696us/step - loss: 0.3852 - accuracy: 0.8644\n",
      "Epoch 56/150\n",
      "24/24 [==============================] - 0s 739us/step - loss: 0.3833 - accuracy: 0.8644\n",
      "Epoch 57/150\n",
      "24/24 [==============================] - 0s 696us/step - loss: 0.3837 - accuracy: 0.8644\n",
      "Epoch 58/150\n",
      "24/24 [==============================] - 0s 652us/step - loss: 0.3818 - accuracy: 0.8644\n",
      "Epoch 59/150\n",
      "24/24 [==============================] - 0s 826us/step - loss: 0.3840 - accuracy: 0.8644\n",
      "Epoch 60/150\n",
      "24/24 [==============================] - 0s 739us/step - loss: 0.3813 - accuracy: 0.8686\n",
      "Epoch 61/150\n",
      "24/24 [==============================] - 0s 696us/step - loss: 0.3809 - accuracy: 0.8644\n",
      "Epoch 62/150\n",
      "24/24 [==============================] - 0s 696us/step - loss: 0.3810 - accuracy: 0.8602\n",
      "Epoch 63/150\n",
      "24/24 [==============================] - 0s 696us/step - loss: 0.3808 - accuracy: 0.8602\n",
      "Epoch 64/150\n",
      "24/24 [==============================] - 0s 696us/step - loss: 0.3807 - accuracy: 0.8686\n",
      "Epoch 65/150\n",
      "24/24 [==============================] - 0s 652us/step - loss: 0.3805 - accuracy: 0.8602\n",
      "Epoch 66/150\n",
      "24/24 [==============================] - 0s 696us/step - loss: 0.3793 - accuracy: 0.8602\n",
      "Epoch 67/150\n",
      "24/24 [==============================] - 0s 652us/step - loss: 0.3794 - accuracy: 0.8644\n",
      "Epoch 68/150\n",
      "24/24 [==============================] - 0s 696us/step - loss: 0.3789 - accuracy: 0.8602\n",
      "Epoch 69/150\n",
      "24/24 [==============================] - 0s 696us/step - loss: 0.3797 - accuracy: 0.8602\n",
      "Epoch 70/150\n",
      "24/24 [==============================] - 0s 696us/step - loss: 0.3774 - accuracy: 0.8686\n",
      "Epoch 71/150\n",
      "24/24 [==============================] - 0s 696us/step - loss: 0.3786 - accuracy: 0.8686\n",
      "Epoch 72/150\n",
      "24/24 [==============================] - 0s 696us/step - loss: 0.3774 - accuracy: 0.8686\n",
      "Epoch 73/150\n",
      "24/24 [==============================] - 0s 696us/step - loss: 0.3774 - accuracy: 0.8686\n",
      "Epoch 74/150\n",
      "24/24 [==============================] - 0s 696us/step - loss: 0.3782 - accuracy: 0.8644\n",
      "Epoch 75/150\n",
      "24/24 [==============================] - 0s 652us/step - loss: 0.3787 - accuracy: 0.8686\n",
      "Epoch 76/150\n",
      "24/24 [==============================] - 0s 652us/step - loss: 0.3765 - accuracy: 0.8729\n",
      "Epoch 77/150\n",
      "24/24 [==============================] - 0s 696us/step - loss: 0.3765 - accuracy: 0.8729\n",
      "Epoch 78/150\n",
      "24/24 [==============================] - 0s 739us/step - loss: 0.3769 - accuracy: 0.8686\n",
      "Epoch 79/150\n",
      "24/24 [==============================] - 0s 739us/step - loss: 0.3757 - accuracy: 0.8686\n",
      "Epoch 80/150\n",
      "24/24 [==============================] - 0s 696us/step - loss: 0.3756 - accuracy: 0.8686\n",
      "Epoch 81/150\n",
      "24/24 [==============================] - 0s 739us/step - loss: 0.3754 - accuracy: 0.8686\n",
      "Epoch 82/150\n",
      "24/24 [==============================] - 0s 783us/step - loss: 0.3750 - accuracy: 0.8686\n",
      "Epoch 83/150\n",
      "24/24 [==============================] - 0s 783us/step - loss: 0.3757 - accuracy: 0.8686\n",
      "Epoch 84/150\n",
      "24/24 [==============================] - 0s 696us/step - loss: 0.3760 - accuracy: 0.8729\n",
      "Epoch 85/150\n",
      "24/24 [==============================] - 0s 652us/step - loss: 0.3742 - accuracy: 0.8729\n",
      "Epoch 86/150\n",
      "24/24 [==============================] - 0s 696us/step - loss: 0.3745 - accuracy: 0.8644\n",
      "Epoch 87/150\n",
      "24/24 [==============================] - 0s 870us/step - loss: 0.3745 - accuracy: 0.8814\n",
      "Epoch 88/150\n",
      "24/24 [==============================] - 0s 739us/step - loss: 0.3733 - accuracy: 0.8729\n",
      "Epoch 89/150\n",
      "24/24 [==============================] - 0s 652us/step - loss: 0.3737 - accuracy: 0.8729\n",
      "Epoch 90/150\n",
      "24/24 [==============================] - 0s 696us/step - loss: 0.3728 - accuracy: 0.8771\n",
      "Epoch 91/150\n",
      "24/24 [==============================] - 0s 696us/step - loss: 0.3732 - accuracy: 0.8729\n",
      "Epoch 92/150\n",
      "24/24 [==============================] - 0s 696us/step - loss: 0.3723 - accuracy: 0.8771\n",
      "Epoch 93/150\n",
      "24/24 [==============================] - 0s 696us/step - loss: 0.3728 - accuracy: 0.8771\n",
      "Epoch 94/150\n",
      "24/24 [==============================] - 0s 652us/step - loss: 0.3727 - accuracy: 0.8729\n",
      "Epoch 95/150\n",
      "24/24 [==============================] - 0s 696us/step - loss: 0.3721 - accuracy: 0.8771\n",
      "Epoch 96/150\n",
      "24/24 [==============================] - 0s 696us/step - loss: 0.3736 - accuracy: 0.8771\n",
      "Epoch 97/150\n",
      "24/24 [==============================] - 0s 696us/step - loss: 0.3726 - accuracy: 0.8771\n",
      "Epoch 98/150\n",
      "24/24 [==============================] - 0s 696us/step - loss: 0.3716 - accuracy: 0.8771\n",
      "Epoch 99/150\n",
      "24/24 [==============================] - 0s 783us/step - loss: 0.3708 - accuracy: 0.8771\n",
      "Epoch 100/150\n",
      "24/24 [==============================] - 0s 739us/step - loss: 0.3709 - accuracy: 0.8729\n",
      "Epoch 101/150\n",
      "24/24 [==============================] - 0s 870us/step - loss: 0.3701 - accuracy: 0.8771\n",
      "Epoch 102/150\n",
      "24/24 [==============================] - 0s 957us/step - loss: 0.3701 - accuracy: 0.8771\n",
      "Epoch 103/150\n",
      "24/24 [==============================] - 0s 913us/step - loss: 0.3712 - accuracy: 0.8771\n",
      "Epoch 104/150\n",
      "24/24 [==============================] - 0s 783us/step - loss: 0.3713 - accuracy: 0.8771\n",
      "Epoch 105/150\n",
      "24/24 [==============================] - 0s 739us/step - loss: 0.3691 - accuracy: 0.8814\n",
      "Epoch 106/150\n",
      "24/24 [==============================] - 0s 696us/step - loss: 0.3704 - accuracy: 0.8814\n",
      "Epoch 107/150\n",
      "24/24 [==============================] - 0s 696us/step - loss: 0.3701 - accuracy: 0.8814\n",
      "Epoch 108/150\n",
      "24/24 [==============================] - 0s 870us/step - loss: 0.3690 - accuracy: 0.8814\n",
      "Epoch 109/150\n",
      "24/24 [==============================] - 0s 826us/step - loss: 0.3686 - accuracy: 0.8771\n",
      "Epoch 110/150\n",
      "24/24 [==============================] - 0s 739us/step - loss: 0.3695 - accuracy: 0.8814\n",
      "Epoch 111/150\n",
      "24/24 [==============================] - 0s 739us/step - loss: 0.3686 - accuracy: 0.8814\n",
      "Epoch 112/150\n",
      "24/24 [==============================] - 0s 783us/step - loss: 0.3686 - accuracy: 0.8814\n",
      "Epoch 113/150\n",
      "24/24 [==============================] - 0s 739us/step - loss: 0.3683 - accuracy: 0.8814\n",
      "Epoch 114/150\n",
      "24/24 [==============================] - 0s 739us/step - loss: 0.3678 - accuracy: 0.8814\n",
      "Epoch 115/150\n",
      "24/24 [==============================] - 0s 783us/step - loss: 0.3677 - accuracy: 0.8814\n",
      "Epoch 116/150\n",
      "24/24 [==============================] - 0s 783us/step - loss: 0.3674 - accuracy: 0.8771\n",
      "Epoch 117/150\n",
      "24/24 [==============================] - 0s 739us/step - loss: 0.3666 - accuracy: 0.8771\n",
      "Epoch 118/150\n",
      "24/24 [==============================] - 0s 783us/step - loss: 0.3669 - accuracy: 0.8729\n",
      "Epoch 119/150\n",
      "24/24 [==============================] - 0s 739us/step - loss: 0.3675 - accuracy: 0.8771\n",
      "Epoch 120/150\n",
      "24/24 [==============================] - 0s 739us/step - loss: 0.3679 - accuracy: 0.8771\n",
      "Epoch 121/150\n",
      "24/24 [==============================] - 0s 696us/step - loss: 0.3664 - accuracy: 0.8814\n",
      "Epoch 122/150\n",
      "24/24 [==============================] - 0s 652us/step - loss: 0.3657 - accuracy: 0.8814\n",
      "Epoch 123/150\n",
      "24/24 [==============================] - 0s 696us/step - loss: 0.3668 - accuracy: 0.8814\n",
      "Epoch 124/150\n",
      "24/24 [==============================] - 0s 696us/step - loss: 0.3658 - accuracy: 0.8771\n",
      "Epoch 125/150\n",
      "24/24 [==============================] - 0s 696us/step - loss: 0.3677 - accuracy: 0.8771\n",
      "Epoch 126/150\n",
      "24/24 [==============================] - 0s 783us/step - loss: 0.3660 - accuracy: 0.8729\n",
      "Epoch 127/150\n",
      "24/24 [==============================] - 0s 739us/step - loss: 0.3652 - accuracy: 0.8771\n",
      "Epoch 128/150\n",
      "24/24 [==============================] - 0s 739us/step - loss: 0.3652 - accuracy: 0.8771\n",
      "Epoch 129/150\n",
      "24/24 [==============================] - 0s 696us/step - loss: 0.3654 - accuracy: 0.8814\n",
      "Epoch 130/150\n",
      "24/24 [==============================] - 0s 696us/step - loss: 0.3646 - accuracy: 0.8814\n",
      "Epoch 131/150\n",
      "24/24 [==============================] - 0s 652us/step - loss: 0.3650 - accuracy: 0.8814\n",
      "Epoch 132/150\n",
      "24/24 [==============================] - 0s 739us/step - loss: 0.3644 - accuracy: 0.8814\n",
      "Epoch 133/150\n",
      "24/24 [==============================] - 0s 739us/step - loss: 0.3638 - accuracy: 0.8814\n",
      "Epoch 134/150\n",
      "24/24 [==============================] - 0s 739us/step - loss: 0.3641 - accuracy: 0.8814\n",
      "Epoch 135/150\n",
      "24/24 [==============================] - 0s 739us/step - loss: 0.3634 - accuracy: 0.8771\n",
      "Epoch 136/150\n",
      "24/24 [==============================] - 0s 783us/step - loss: 0.3654 - accuracy: 0.8771\n",
      "Epoch 137/150\n",
      "24/24 [==============================] - 0s 783us/step - loss: 0.3658 - accuracy: 0.8771\n",
      "Epoch 138/150\n",
      "24/24 [==============================] - 0s 783us/step - loss: 0.3630 - accuracy: 0.8771\n",
      "Epoch 139/150\n",
      "24/24 [==============================] - 0s 783us/step - loss: 0.3637 - accuracy: 0.8814\n",
      "Epoch 140/150\n",
      "24/24 [==============================] - 0s 696us/step - loss: 0.3630 - accuracy: 0.8771\n",
      "Epoch 141/150\n",
      "24/24 [==============================] - 0s 696us/step - loss: 0.3629 - accuracy: 0.8771\n",
      "Epoch 142/150\n",
      "24/24 [==============================] - 0s 696us/step - loss: 0.3612 - accuracy: 0.8771\n",
      "Epoch 143/150\n",
      "24/24 [==============================] - 0s 783us/step - loss: 0.3619 - accuracy: 0.8814\n",
      "Epoch 144/150\n",
      "24/24 [==============================] - 0s 739us/step - loss: 0.3610 - accuracy: 0.8856\n",
      "Epoch 145/150\n",
      "24/24 [==============================] - 0s 652us/step - loss: 0.3611 - accuracy: 0.8814\n",
      "Epoch 146/150\n",
      "24/24 [==============================] - 0s 696us/step - loss: 0.3611 - accuracy: 0.8814\n",
      "Epoch 147/150\n",
      "24/24 [==============================] - 0s 696us/step - loss: 0.3604 - accuracy: 0.8814\n",
      "Epoch 148/150\n",
      "24/24 [==============================] - 0s 696us/step - loss: 0.3610 - accuracy: 0.8771\n",
      "Epoch 149/150\n",
      "24/24 [==============================] - 0s 696us/step - loss: 0.3598 - accuracy: 0.8771\n",
      "Epoch 150/150\n",
      "24/24 [==============================] - 0s 739us/step - loss: 0.3602 - accuracy: 0.8814\n"
     ]
    },
    {
     "data": {
      "text/plain": [
       "<keras.callbacks.History at 0x15fe5c4ec50>"
      ]
     },
     "execution_count": 76,
     "metadata": {},
     "output_type": "execute_result"
    }
   ],
   "source": [
    "classifier_keras = Sequential()\n",
    "classifier_keras.add(Dense(16, kernel_initializer = 'uniform', activation = 'relu', input_dim = 9))\n",
    "classifier_keras.add(Dense(8, kernel_initializer = 'uniform', activation = 'relu'))\n",
    "classifier_keras.add(Dense(1, kernel_initializer = 'uniform', activation = 'sigmoid'))\n",
    "\n",
    "classifier_keras.compile(optimizer = 'adam', loss = 'binary_crossentropy', metrics = ['accuracy'])\n",
    "\n",
    "classifier_keras.fit(x_test_sc, y_test, epochs=150, batch_size=10)"
   ]
  },
  {
   "cell_type": "code",
   "execution_count": 75,
   "metadata": {},
   "outputs": [
    {
     "name": "stdout",
     "output_type": "stream",
     "text": [
      "15/15 [==============================] - 0s 643us/step - loss: 0.4674 - accuracy: 0.8033\n",
      "Accuracy:[0.46741026639938354, 0.8033472895622253]\n",
      "8/8 [==============================] - 0s 572us/step\n",
      "0.8813559322033898\n",
      "[[135   7]\n",
      " [ 21  73]]\n"
     ]
    }
   ],
   "source": [
    "# evaluate the keras model\n",
    "accuracy_keras = classifier_keras.evaluate(x_train_sc, y_train)\n",
    "print(f\"Accuracy:{accuracy_keras}\")\n",
    "\n",
    "y_pred = classifier_keras.predict(x_test_sc) \n",
    "y_pred = np.array(y_pred)\n",
    "y_pred = (y_pred > 0.5)\n",
    "print(accuracy_score(y_test, y_pred))\n",
    "print(confusion_matrix(y_test, y_pred))"
   ]
  }
 ],
 "metadata": {
  "kernelspec": {
   "display_name": "Python 3.10.5 64-bit",
   "language": "python",
   "name": "python3"
  },
  "language_info": {
   "codemirror_mode": {
    "name": "ipython",
    "version": 3
   },
   "file_extension": ".py",
   "mimetype": "text/x-python",
   "name": "python",
   "nbconvert_exporter": "python",
   "pygments_lexer": "ipython3",
   "version": "3.10.5"
  },
  "orig_nbformat": 4,
  "vscode": {
   "interpreter": {
    "hash": "afb734500600fd355917ca529030176ea0ca205570884b88f2f6f7d791fd3fbe"
   }
  }
 },
 "nbformat": 4,
 "nbformat_minor": 2
}
